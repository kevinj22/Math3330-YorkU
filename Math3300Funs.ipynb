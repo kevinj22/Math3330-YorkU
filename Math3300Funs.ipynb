{
 "cells": [
  {
   "cell_type": "code",
   "execution_count": 1,
   "metadata": {
    "collapsed": false
   },
   "outputs": [],
   "source": [
    "# -*- coding: utf-8 -*-\n",
    "\"\"\"\n",
    "Created on Thu Jun 30 23:51:04 2016\n",
    "\n",
    "@author: Kevin Joseph\n",
    "\"\"\"\n",
    "\n",
    "import numpy as np\n",
    "import pandas as pd\n",
    "from scipy import stats\n",
    "import scipy, scipy.stats\n",
    "import matplotlib.pyplot as plt\n",
    "%matplotlib inline\n",
    "from sklearn.linear_model import LinearRegression\n",
    "\n",
    "def linregDF(x,y):\n",
    "    \n",
    "    import numpy as np\n",
    "    import pandas as pd\n",
    "    from scipy import stats\n",
    "\n",
    "    df = pd.DataFrame({'x':x,'y':y,'xy':x*y,'xx':x**2,'y_sq':y**2})\n",
    "    \n",
    "    bOne=stats.linregress(x,y)[0]\n",
    "    bnot=stats.linregress(x,y)[1]\n",
    "    yhat = bnot + bOne*x\n",
    "    \n",
    "    df['yhat']=yhat\n",
    "    df['y-yhat']=df['y']-df['yhat']\n",
    "    df['y-yhat_squared']=df['y-yhat']**2\n",
    "    df=df.append(df.sum(),ignore_index=True)\n",
    "    df = df.rename(index={df.shape[0]-1:'total'}) \n",
    "    return df\n",
    "\n",
    "def SSE(x,y):\n",
    "    df=linregDF(x,y)\n",
    "    dex = df.shape[0]-1 # Don't want total row\n",
    "    return(sum((df.y.iloc[:dex]-df.yhat.iloc[:dex])**2))\n",
    "\n",
    "def SSR(x,y):\n",
    "    df=linregDF(x,y)\n",
    "    dex=df.shape[0]-1\n",
    "    ybar = df.y[:dex].mean()\n",
    "    return sum((df.yhat[:dex]-ybar)**2)\n",
    "\n",
    "def SST(x,y):\n",
    "    df=linregDF(x,y)\n",
    "    dex=df.shape[0]-1\n",
    "    ybar = df.y[:dex].mean()\n",
    "    return sum((df.y[:dex]-ybar)**2)\n",
    "\n",
    "def ssqands(x,y):\n",
    "    import math\n",
    "    n=len(x)\n",
    "    ssqands=[SSE(x,y)/(n-2)]\n",
    "    ssqands.append(math.sqrt(ssqands[0]))\n",
    "    return ssqands\n",
    "\n",
    "def printall(x,y):\n",
    "    DF=linregDF(x,y)\n",
    "    print(DF)\n",
    "    print()\n",
    "    print(\"Slope:\", stats.linregress(x,y)[0])\n",
    "    print(\"Intercept:\", stats.linregress(x,y)[1])\n",
    "    print(\"Xbar:\", DF.x.loc['total']/len(x))\n",
    "    print(\"Ybar:\", DF.y.loc['total']/len(y))\n",
    "    print(\"r^2:\", stats.linregress(x,y)[2]**2)\n",
    "    print(\"SSR:\", SSR(x,y))\n",
    "    print(\"SSE:\", SSE(x,y))\n",
    "    print(\"SST:\", SST(x,y))\n",
    "    print(\"s^2:\", ssqands(x,y)[0])\n",
    "    print(\"s:\", ssqands(x,y)[1])\n",
    "    print(\"c00:\",c00(x,y))\n",
    "    print(\"c11:\",c11(x,y))\n",
    "    \n",
    "def plotit(DF):\n",
    "    plt.plot(x,y,'o',label='Original Data',markersize=5)\n",
    "    plt.plot(DF.drop('total')['x'],DF.drop('total')['yhat'],'-',label='Fitted')\n",
    "    plt.title('SLR')\n",
    "    plt.xlabel('X')\n",
    "    plt.ylabel('Y')\n",
    "    plt.legend()\n",
    "\n",
    "def c00(x,y):\n",
    "    df=linregDF(x,y)\n",
    "    n=len(x)\n",
    "    xbar=df.x.drop('total').mean()\n",
    "    return(1/n + (xbar**2)/(df.xx.loc['total']-n*xbar**2))\n",
    "\n",
    "def c11(x,y):\n",
    "    df=linregDF(x,y)\n",
    "    n=len(x)\n",
    "    xbar=df.x.drop('total').mean()\n",
    "    return(1/(df.xx.loc['total']-n*xbar**2))\n",
    "\n",
    "def h00u(x,y,xval):\n",
    "    df=linregDF(x,y)\n",
    "    n=len(x)\n",
    "    xbar=df.x.drop('total').mean()\n",
    "    return(1/n + (xval-xbar)**2/(df.xx.loc['total']-n*xbar**2))\n",
    "\n",
    "def h00y(x,y,xval):\n",
    "    df=linregDF(x,y)\n",
    "    n=len(x)\n",
    "    xbar=df.x.drop('total').mean()\n",
    "    return(1 + 1/n + (xval-xbar)**2/(df.xx.loc['total']-n*xbar**2))\n"
   ]
  },
  {
   "cell_type": "code",
   "execution_count": 2,
   "metadata": {
    "collapsed": true
   },
   "outputs": [],
   "source": [
    "def get_xTx_inv(dataframe):\n",
    "    import numpy as np\n",
    "    # Get number of obs\n",
    "    n=dataframe.shape[0]\n",
    "    val=dataframe.ix[:,'x'] #\n",
    "    # Create a row of 1's with the same num of rows as x\n",
    "    ones=np.ones(n)\n",
    "    # Grab only the independant variables\n",
    "    X_mat=val\n",
    "   \n",
    "    # Use column stack to augment with ones\n",
    "    c = np.c_[ones,X_mat]\n",
    " \n",
    "    # Create xT\n",
    "    xT = c.transpose()\n",
    "    # Create xTx\n",
    "    xTx=np.dot(c.transpose(),c)\n",
    "    # Invert xTx\n",
    "    xTx_inv=np.linalg.inv(xTx)\n",
    "    # Print xTx_inv\n",
    "    \n",
    "    return(xTx_inv,xTx,xT)\n",
    "\n",
    "def multi_reg_table(dataframe):\n",
    "    dataframe = dataframe.iloc[:-1,:]\n",
    "    import math\n",
    "    from sklearn.linear_model import LinearRegression\n",
    "    l=['Intercept']\n",
    "    l.append('x')\n",
    "   \n",
    "    cols = {'Variables': l}\n",
    "   \n",
    "    tstats_tab = pd.DataFrame(cols)\n",
    "    tstats_tab.head()\n",
    "    \n",
    "    X=dataframe.ix[:,'x'] #\n",
    "    X=X.reshape(-1, 1)\n",
    "    Y=dataframe.y #\n",
    "    \n",
    "    cln = LinearRegression()\n",
    "    mod = cln.fit(X,Y)\n",
    "    \n",
    "    li = [mod.intercept_]\n",
    "    \n",
    "    for item in mod.coef_:\n",
    "        li.append(item)\n",
    "\n",
    "    tstats_tab['val'] = li\n",
    "    \n",
    "    xTx_inv,xTx_trans,x_trans=get_xTx_inv(dataframe)\n",
    "    n=xTx_inv.shape[0]\n",
    "    var_coef=[]\n",
    "    for i in range(0,n):\n",
    "        var_coef.append(xTx_inv[i,i])\n",
    "    tstats_tab['Var_Coef'] = var_coef\n",
    "\n",
    "    ind_rows=[]\n",
    "    n=tstats_tab.shape[0]\n",
    "    \n",
    "    for i in range(1,n):\n",
    "        ind_rows.append(dataframe.loc[:,tstats_tab.Variables[i]]*tstats_tab.val[i])\n",
    "    nump = np.array(ind_rows)\n",
    "    yhat=np.sum(nump,axis=0)+tstats_tab.val[0]\n",
    "    \n",
    "    \n",
    "    n=dataframe.shape[0]\n",
    "    m=2\n",
    "    \n",
    "    SSE = sum((yhat-dataframe.y)**2)\n",
    "    s_sq = SSE/(n-m)\n",
    "    SSR = sum((yhat-dataframe.y.mean())**2)\n",
    "    SST = sum(dataframe.y**2)-n*dataframe.y.mean()**2\n",
    "    R_sq = SSR/SST\n",
    "    print(\"SSE:\", SSE)\n",
    "    print(\"SSR:\", SSR)\n",
    "    print(\"SST:\", SST)\n",
    "    print(\"R^2:\", R_sq)\n",
    "    tstats_tab['st_dev'] = (tstats_tab.Var_Coef * s_sq).apply(lambda x: math.sqrt(x))\n",
    "    tstats_tab['t_obs']=tstats_tab.val/tstats_tab.st_dev\n",
    "    tstats_tab['p']=scipy.stats.t.sf(np.abs(tstats_tab.t_obs),n-m)*2\n",
    "    return(tstats_tab)"
   ]
  },
  {
   "cell_type": "code",
   "execution_count": 3,
   "metadata": {
    "collapsed": false
   },
   "outputs": [
    {
     "name": "stdout",
     "output_type": "stream",
     "text": [
      "          x     xx      xy       y      y_sq         yhat        y-yhat  \\\n",
      "0       2.0   4.00   504.0   252.0   63504.0   251.190476  8.095238e-01   \n",
      "1       2.2   4.84   536.8   244.0   59536.0   245.647619 -1.647619e+00   \n",
      "2       2.4   5.76   578.4   241.0   58081.0   240.104762  8.952381e-01   \n",
      "3       2.6   6.76   608.4   234.0   54756.0   234.561905 -5.619048e-01   \n",
      "4       2.8   7.84   644.0   230.0   52900.0   229.019048  9.809524e-01   \n",
      "5       3.0   9.00   669.0   223.0   49729.0   223.476190 -4.761905e-01   \n",
      "total  15.0  38.20  3540.6  1424.0  338506.0  1424.000000  1.136868e-13   \n",
      "\n",
      "       y-yhat_squared  \n",
      "0            0.655329  \n",
      "1            2.714649  \n",
      "2            0.801451  \n",
      "3            0.315737  \n",
      "4            0.962268  \n",
      "5            0.226757  \n",
      "total        5.676190  \n",
      "\n",
      "Slope: -27.7142857143\n",
      "Intercept: 306.619047619\n",
      "Xbar: 2.5\n",
      "Ybar: 237.333333333\n",
      "r^2: 0.989553023663\n",
      "SSR: 537.657142857\n",
      "SSE: 5.67619047619\n",
      "SST: 543.333333333\n",
      "s^2: 1.41904761905\n",
      "s: 1.1912378515844848\n",
      "c00: 9.09523809524\n",
      "c11: 1.42857142857\n"
     ]
    },
    {
     "data": {
      "image/png": "[encoded data removed]",
      "text/plain": [
       "<matplotlib.figure.Figure at 0x7fa3b2e62b70>"
      ]
     },
     "metadata": {},
     "output_type": "display_data"
    }
   ],
   "source": [
    "%matplotlib inline\n",
    "import numpy as np\n",
    "import matplotlib.pyplot as plt\n",
    "\n",
    "# Question 4.5 Chaot 4 pg 130\n",
    "\n",
    "x=np.array([2,2.2,2.4,2.6,2.8,3])\n",
    "y=np.array([252,244,241,234,230,223])\n",
    "DF = linregDF(x,y)\n",
    "printall(x,y)\n",
    "plotit(DF)\n",
    "\n",
    "\n"
   ]
  },
  {
   "cell_type": "code",
   "execution_count": 4,
   "metadata": {
    "collapsed": false,
    "scrolled": false
   },
   "outputs": [
    {
     "name": "stdout",
     "output_type": "stream",
     "text": [
      "           x        xx       xy     y    y_sq       yhat        y-yhat  \\\n",
      "0       28.0    784.00   347.20  12.4  153.76  12.256049  1.439506e-01   \n",
      "1       28.0    784.00   327.60  11.7  136.89  12.256049 -5.560494e-01   \n",
      "2       32.5   1056.25   403.00  12.4  153.76  11.680402  7.195983e-01   \n",
      "3       39.0   1521.00   421.20  10.8  116.64  10.848911 -4.891053e-02   \n",
      "4       45.9   2106.81   431.46   9.4   88.36   9.966251 -5.662507e-01   \n",
      "5       57.8   3340.84   549.10   9.5   90.25   8.443982  1.056018e+00   \n",
      "6       58.1   3375.61   464.80   8.0   64.00   8.405606 -4.056058e-01   \n",
      "7       62.5   3906.25   468.75   7.5   56.25   7.842750 -3.427502e-01   \n",
      "total  351.8  16874.76  3413.11  81.7  859.91  81.700000  9.769963e-15   \n",
      "\n",
      "       y-yhat_squared  \n",
      "0            0.020722  \n",
      "1            0.309191  \n",
      "2            0.517822  \n",
      "3            0.002392  \n",
      "4            0.320640  \n",
      "5            1.115173  \n",
      "6            0.164516  \n",
      "7            0.117478  \n",
      "total        2.567934  \n",
      "\n",
      "Slope: -0.127921714951\n",
      "Intercept: 15.837857415\n",
      "Xbar: 43.975\n",
      "Ybar: 10.2125\n",
      "r^2: 0.899488870753\n",
      "SSR: 22.9808162867\n",
      "SSE: 2.56793371334\n",
      "SST: 25.54875\n",
      "s^2: 0.427988952224\n",
      "s: 0.6542086457878852\n",
      "c00: 1.50200269875\n",
      "c11: 0.000712070665893\n"
     ]
    },
    {
     "data": {
      "image/png": "[encoded data removed]",
      "text/plain": [
       "<matplotlib.figure.Figure at 0x7fa3b08ec4e0>"
      ]
     },
     "metadata": {},
     "output_type": "display_data"
    }
   ],
   "source": [
    "# Table 4.4 chap 4 and example 5.11 pg 177\n",
    "x = np.array([28,28,32.5,39,45.9,57.8,58.1,62.5])\n",
    "y = np.array([12.4,11.7,12.4,10.8,9.4,9.5,8.0,7.5])\n",
    "\n",
    "DF = linregDF(x,y)\n",
    "printall(x,y)\n",
    "plotit(DF)"
   ]
  },
  {
   "cell_type": "code",
   "execution_count": 5,
   "metadata": {
    "collapsed": false,
    "scrolled": false
   },
   "outputs": [
    {
     "name": "stdout",
     "output_type": "stream",
     "text": [
      "           x       xx       xy      y     y_sq        yhat        y-yhat  \\\n",
      "0       3.26  10.6276   91.932   28.2   795.24   27.834306  3.656945e-01   \n",
      "1       2.60   6.7600   64.480   24.8   615.04   24.697912  1.020877e-01   \n",
      "2       3.35  11.2225   93.465   27.9   778.41   28.261996 -3.619955e-01   \n",
      "3       2.86   8.1796   72.358   25.3   640.09   25.933461 -6.334611e-01   \n",
      "4       3.82  14.5924  115.746   30.3   918.09   30.495488 -1.954877e-01   \n",
      "5       2.21   4.8841   50.830   23.0   529.00   22.844589  1.554110e-01   \n",
      "6       3.47  12.0409  102.018   29.4   864.36   28.832249  5.677511e-01   \n",
      "total  21.57  68.3071  590.829  188.9  5140.23  188.900000 -3.197442e-14   \n",
      "\n",
      "       y-yhat_squared  \n",
      "0            0.133732  \n",
      "1            0.010422  \n",
      "2            0.131041  \n",
      "3            0.401273  \n",
      "4            0.038215  \n",
      "5            0.024153  \n",
      "6            0.322341  \n",
      "total        1.061178  \n",
      "\n",
      "Slope: 4.75211101453\n",
      "Intercept: 12.3424236309\n",
      "Xbar: 3.08142857143\n",
      "Ybar: 26.9857142857\n",
      "r^2: 0.975106425669\n",
      "SSR: 41.5673939171\n",
      "SSE: 1.06117751149\n",
      "SST: 42.6285714286\n",
      "s^2: 0.212235502297\n",
      "s: 0.46069024549829557\n",
      "c00: 5.30137060723\n",
      "c11: 0.543275797839\n",
      "hooU: 0.158295045325\n",
      "hooy: 1.15829504532\n",
      "SSE: 1.06117751149\n",
      "SSR: 41.5673939171\n",
      "SST: 42.6285714286\n",
      "R^2: 0.975106425669\n"
     ]
    },
    {
     "data": {
      "image/png": "[encoded data removed]",
      "text/plain": [
       "<matplotlib.figure.Figure at 0x7fa3b03dee48>"
      ]
     },
     "metadata": {},
     "output_type": "display_data"
    }
   ],
   "source": [
    "# Chap 5 Q 5.1\n",
    "x=np.array([3.26,2.60,3.35,2.86,3.82,2.21,3.47])\n",
    "y=np.array([28.2,24.8,27.9,25.3,30.3,23.0,29.4])\n",
    "#b1=4.7521\n",
    "#b0=12.3424\n",
    "#df2 = pd.DataFrame({'x':x,'y':y,'xy':x*y,'xx':x**2,'y_sq':y**2})\n",
    "#yhat=b0 + b1*df2.x\n",
    "#df2['yhat']=yhat    \n",
    "DF = linregDF(x,y)\n",
    "printall(x,y)\n",
    "print('hooU:',h00u(x,y,3.25))\n",
    "print('hooy:',h00y(x,y,3.25))\n",
    "plotit(DF)\n",
    "#df2\n",
    "#sse=sum(df2.y_sq)-(b0*sum(df2.y)+b1*sum(df2.xy))\n",
    "#print(sse)\n",
    "#ssr=(b0*sum(df2.y)+b1*sum(df2.xy))-df2.shape[0]*(df2.y.mean()**2)\n",
    "#print(ssr)\n",
    "#sst = sum(df2.y_sq)-7*(df2.y.mean()**2)\n",
    "#print(sst)\n",
    "#print(sse/5)\n",
    "#import math\n",
    "#print(math.sqrt(sse/5))\n",
    "#print(ssr/sst)\n",
    "#print(ssr/(sse/5))\n",
    "stats_test = multi_reg_table(DF)"
   ]
  },
  {
   "cell_type": "code",
   "execution_count": 6,
   "metadata": {
    "collapsed": false
   },
   "outputs": [
    {
     "data": {
      "text/html": [
       "<div>\n",
       "<table border=\"1\" class=\"dataframe\">\n",
       "  <thead>\n",
       "    <tr style=\"text-align: right;\">\n",
       "      <th></th>\n",
       "      <th>Variables</th>\n",
       "      <th>val</th>\n",
       "      <th>Var_Coef</th>\n",
       "      <th>st_dev</th>\n",
       "      <th>t_obs</th>\n",
       "      <th>p</th>\n",
       "    </tr>\n",
       "  </thead>\n",
       "  <tbody>\n",
       "    <tr>\n",
       "      <th>0</th>\n",
       "      <td>Intercept</td>\n",
       "      <td>12.342424</td>\n",
       "      <td>5.301371</td>\n",
       "      <td>1.060726</td>\n",
       "      <td>11.635830</td>\n",
       "      <td>0.000082</td>\n",
       "    </tr>\n",
       "    <tr>\n",
       "      <th>1</th>\n",
       "      <td>x</td>\n",
       "      <td>4.752111</td>\n",
       "      <td>0.543276</td>\n",
       "      <td>0.339562</td>\n",
       "      <td>13.994822</td>\n",
       "      <td>0.000033</td>\n",
       "    </tr>\n",
       "  </tbody>\n",
       "</table>\n",
       "</div>"
      ],
      "text/plain": [
       "   Variables        val  Var_Coef    st_dev      t_obs         p\n",
       "0  Intercept  12.342424  5.301371  1.060726  11.635830  0.000082\n",
       "1          x   4.752111  0.543276  0.339562  13.994822  0.000033"
      ]
     },
     "execution_count": 6,
     "metadata": {},
     "output_type": "execute_result"
    }
   ],
   "source": [
    "stats_test"
   ]
  },
  {
   "cell_type": "code",
   "execution_count": 7,
   "metadata": {
    "collapsed": false
   },
   "outputs": [
    {
     "data": {
      "text/html": [
       "<div>\n",
       "<table border=\"1\" class=\"dataframe\">\n",
       "  <thead>\n",
       "    <tr style=\"text-align: right;\">\n",
       "      <th></th>\n",
       "      <th>x</th>\n",
       "      <th>xx</th>\n",
       "      <th>xy</th>\n",
       "      <th>y</th>\n",
       "      <th>y_sq</th>\n",
       "      <th>yhat</th>\n",
       "      <th>y-yhat_sq</th>\n",
       "    </tr>\n",
       "  </thead>\n",
       "  <tbody>\n",
       "    <tr>\n",
       "      <th>0</th>\n",
       "      <td>3.26</td>\n",
       "      <td>10.6276</td>\n",
       "      <td>91.932</td>\n",
       "      <td>28.2</td>\n",
       "      <td>795.24</td>\n",
       "      <td>27.834246</td>\n",
       "      <td>0.133776</td>\n",
       "    </tr>\n",
       "    <tr>\n",
       "      <th>1</th>\n",
       "      <td>2.60</td>\n",
       "      <td>6.7600</td>\n",
       "      <td>64.480</td>\n",
       "      <td>24.8</td>\n",
       "      <td>615.04</td>\n",
       "      <td>24.697860</td>\n",
       "      <td>0.010433</td>\n",
       "    </tr>\n",
       "    <tr>\n",
       "      <th>2</th>\n",
       "      <td>3.35</td>\n",
       "      <td>11.2225</td>\n",
       "      <td>93.465</td>\n",
       "      <td>27.9</td>\n",
       "      <td>778.41</td>\n",
       "      <td>28.261935</td>\n",
       "      <td>0.130997</td>\n",
       "    </tr>\n",
       "    <tr>\n",
       "      <th>3</th>\n",
       "      <td>2.86</td>\n",
       "      <td>8.1796</td>\n",
       "      <td>72.358</td>\n",
       "      <td>25.3</td>\n",
       "      <td>640.09</td>\n",
       "      <td>25.933406</td>\n",
       "      <td>0.401203</td>\n",
       "    </tr>\n",
       "    <tr>\n",
       "      <th>4</th>\n",
       "      <td>3.82</td>\n",
       "      <td>14.5924</td>\n",
       "      <td>115.746</td>\n",
       "      <td>30.3</td>\n",
       "      <td>918.09</td>\n",
       "      <td>30.495422</td>\n",
       "      <td>0.038190</td>\n",
       "    </tr>\n",
       "    <tr>\n",
       "      <th>5</th>\n",
       "      <td>2.21</td>\n",
       "      <td>4.8841</td>\n",
       "      <td>50.830</td>\n",
       "      <td>23.0</td>\n",
       "      <td>529.00</td>\n",
       "      <td>22.844541</td>\n",
       "      <td>0.024168</td>\n",
       "    </tr>\n",
       "    <tr>\n",
       "      <th>6</th>\n",
       "      <td>3.47</td>\n",
       "      <td>12.0409</td>\n",
       "      <td>102.018</td>\n",
       "      <td>29.4</td>\n",
       "      <td>864.36</td>\n",
       "      <td>28.832187</td>\n",
       "      <td>0.322412</td>\n",
       "    </tr>\n",
       "  </tbody>\n",
       "</table>\n",
       "</div>"
      ],
      "text/plain": [
       "      x       xx       xy     y    y_sq       yhat  y-yhat_sq\n",
       "0  3.26  10.6276   91.932  28.2  795.24  27.834246   0.133776\n",
       "1  2.60   6.7600   64.480  24.8  615.04  24.697860   0.010433\n",
       "2  3.35  11.2225   93.465  27.9  778.41  28.261935   0.130997\n",
       "3  2.86   8.1796   72.358  25.3  640.09  25.933406   0.401203\n",
       "4  3.82  14.5924  115.746  30.3  918.09  30.495422   0.038190\n",
       "5  2.21   4.8841   50.830  23.0  529.00  22.844541   0.024168\n",
       "6  3.47  12.0409  102.018  29.4  864.36  28.832187   0.322412"
      ]
     },
     "execution_count": 7,
     "metadata": {},
     "output_type": "execute_result"
    }
   ],
   "source": [
    "# Chap 5 Q 5.1\n",
    "x=np.array([3.26,2.60,3.35,2.86,3.82,2.21,3.47])\n",
    "y=np.array([28.2,24.8,27.9,25.3,30.3,23.0,29.4])\n",
    "b1=4.7521\n",
    "b0=12.3424\n",
    "df2 = pd.DataFrame({'x':x,'y':y,'xy':x*y,'xx':x**2,'y_sq':y**2})\n",
    "yhat=b0 + b1*df2.x\n",
    "df2['yhat']=yhat\n",
    "df2['y-yhat_sq']=(df2.y-df2.yhat)**2\n",
    "df2\n"
   ]
  },
  {
   "cell_type": "code",
   "execution_count": 8,
   "metadata": {
    "collapsed": false
   },
   "outputs": [
    {
     "name": "stdout",
     "output_type": "stream",
     "text": [
      "SSE: 1.0721491\n",
      "SSR: 41.5564223286\n",
      "SST: 42.6285714286\n",
      "S_sq: 0.21442982\n",
      "S: 0.4630656756878656\n",
      "R^2: 0.974849049263\n",
      "F: 193.799641899\n"
     ]
    }
   ],
   "source": [
    "import math\n",
    "sse=sum(df2.y_sq)-(b0*sum(df2.y)+b1*sum(df2.xy))\n",
    "ssr=(b0*sum(df2.y)+b1*sum(df2.xy))-df2.shape[0]*(df2.y.mean()**2)\n",
    "sst = sum(df2.y_sq)-7*(df2.y.mean()**2)\n",
    "print(\"SSE:\",sse)\n",
    "print(\"SSR:\",ssr)\n",
    "print(\"SST:\",sst)\n",
    "print(\"S_sq:\",sse/5)\n",
    "print(\"S:\",math.sqrt(sse/5))\n",
    "print(\"R^2:\",ssr/sst)\n",
    "print(\"F:\", ssr/(sse/5))\n"
   ]
  },
  {
   "cell_type": "code",
   "execution_count": 9,
   "metadata": {
    "collapsed": false
   },
   "outputs": [
    {
     "data": {
      "image/png": "[encoded data removed]",
      "text/plain": [
       "<matplotlib.figure.Figure at 0x7fa3b08c4828>"
      ]
     },
     "metadata": {},
     "output_type": "display_data"
    }
   ],
   "source": [
    "plt.plot(df2.x,df2.yhat)\n",
    "plt.plot(DF.x[:-1],DF.yhat[:-1],'r')\n",
    "plt.xlim(2.2099,2.2101)\n",
    "plt.ylim(22.844585,22.844595)\n",
    "plt.show()"
   ]
  },
  {
   "cell_type": "code",
   "execution_count": 10,
   "metadata": {
    "collapsed": false
   },
   "outputs": [
    {
     "data": {
      "text/html": [
       "<div>\n",
       "<table border=\"1\" class=\"dataframe\">\n",
       "  <thead>\n",
       "    <tr style=\"text-align: right;\">\n",
       "      <th></th>\n",
       "      <th>x</th>\n",
       "      <th>xx</th>\n",
       "      <th>xy</th>\n",
       "      <th>y</th>\n",
       "      <th>y_sq</th>\n",
       "      <th>yhat</th>\n",
       "      <th>y-yhat_sq</th>\n",
       "    </tr>\n",
       "  </thead>\n",
       "  <tbody>\n",
       "    <tr>\n",
       "      <th>0</th>\n",
       "      <td>3.26</td>\n",
       "      <td>10.6276</td>\n",
       "      <td>91.932</td>\n",
       "      <td>28.2</td>\n",
       "      <td>795.24</td>\n",
       "      <td>27.834246</td>\n",
       "      <td>0.133776</td>\n",
       "    </tr>\n",
       "    <tr>\n",
       "      <th>1</th>\n",
       "      <td>2.60</td>\n",
       "      <td>6.7600</td>\n",
       "      <td>64.480</td>\n",
       "      <td>24.8</td>\n",
       "      <td>615.04</td>\n",
       "      <td>24.697860</td>\n",
       "      <td>0.010433</td>\n",
       "    </tr>\n",
       "    <tr>\n",
       "      <th>2</th>\n",
       "      <td>3.35</td>\n",
       "      <td>11.2225</td>\n",
       "      <td>93.465</td>\n",
       "      <td>27.9</td>\n",
       "      <td>778.41</td>\n",
       "      <td>28.261935</td>\n",
       "      <td>0.130997</td>\n",
       "    </tr>\n",
       "    <tr>\n",
       "      <th>3</th>\n",
       "      <td>2.86</td>\n",
       "      <td>8.1796</td>\n",
       "      <td>72.358</td>\n",
       "      <td>25.3</td>\n",
       "      <td>640.09</td>\n",
       "      <td>25.933406</td>\n",
       "      <td>0.401203</td>\n",
       "    </tr>\n",
       "    <tr>\n",
       "      <th>4</th>\n",
       "      <td>3.82</td>\n",
       "      <td>14.5924</td>\n",
       "      <td>115.746</td>\n",
       "      <td>30.3</td>\n",
       "      <td>918.09</td>\n",
       "      <td>30.495422</td>\n",
       "      <td>0.038190</td>\n",
       "    </tr>\n",
       "    <tr>\n",
       "      <th>5</th>\n",
       "      <td>2.21</td>\n",
       "      <td>4.8841</td>\n",
       "      <td>50.830</td>\n",
       "      <td>23.0</td>\n",
       "      <td>529.00</td>\n",
       "      <td>22.844541</td>\n",
       "      <td>0.024168</td>\n",
       "    </tr>\n",
       "    <tr>\n",
       "      <th>6</th>\n",
       "      <td>3.47</td>\n",
       "      <td>12.0409</td>\n",
       "      <td>102.018</td>\n",
       "      <td>29.4</td>\n",
       "      <td>864.36</td>\n",
       "      <td>28.832187</td>\n",
       "      <td>0.322412</td>\n",
       "    </tr>\n",
       "    <tr>\n",
       "      <th>total</th>\n",
       "      <td>21.57</td>\n",
       "      <td>68.3071</td>\n",
       "      <td>590.829</td>\n",
       "      <td>188.9</td>\n",
       "      <td>5140.23</td>\n",
       "      <td>188.899597</td>\n",
       "      <td>1.061178</td>\n",
       "    </tr>\n",
       "  </tbody>\n",
       "</table>\n",
       "</div>"
      ],
      "text/plain": [
       "           x       xx       xy      y     y_sq        yhat  y-yhat_sq\n",
       "0       3.26  10.6276   91.932   28.2   795.24   27.834246   0.133776\n",
       "1       2.60   6.7600   64.480   24.8   615.04   24.697860   0.010433\n",
       "2       3.35  11.2225   93.465   27.9   778.41   28.261935   0.130997\n",
       "3       2.86   8.1796   72.358   25.3   640.09   25.933406   0.401203\n",
       "4       3.82  14.5924  115.746   30.3   918.09   30.495422   0.038190\n",
       "5       2.21   4.8841   50.830   23.0   529.00   22.844541   0.024168\n",
       "6       3.47  12.0409  102.018   29.4   864.36   28.832187   0.322412\n",
       "total  21.57  68.3071  590.829  188.9  5140.23  188.899597   1.061178"
      ]
     },
     "execution_count": 10,
     "metadata": {},
     "output_type": "execute_result"
    }
   ],
   "source": [
    "df2=df2.append(df2.sum(),ignore_index=True)\n",
    "df2 = df2.rename(index={df2.shape[0]-1:'total'})\n",
    "df2"
   ]
  },
  {
   "cell_type": "code",
   "execution_count": 6,
   "metadata": {
    "collapsed": false
   },
   "outputs": [
    {
     "data": {
      "text/plain": [
       "<matplotlib.axes._subplots.AxesSubplot at 0x7fc2dfd4cb38>"
      ]
     },
     "execution_count": 6,
     "metadata": {},
     "output_type": "execute_result"
    },
    {
     "data": {
      "image/png": "[encoded data removed]",
      "text/plain": [
       "<matplotlib.figure.Figure at 0x7fc2dfd395f8>"
      ]
     },
     "metadata": {},
     "output_type": "display_data"
    }
   ],
   "source": [
    "import seaborn as sns\n",
    "sns.residplot(x='x',y='y',data=DF.drop('total'))"
   ]
  },
  {
   "cell_type": "code",
   "execution_count": 7,
   "metadata": {
    "collapsed": false
   },
   "outputs": [
    {
     "data": {
      "text/plain": [
       "(array([ 1.,  0.,  1.,  1.,  0.,  0.,  2.,  0.,  1.,  1.]),\n",
       " array([-0.63346113, -0.5133399 , -0.39321868, -0.27309745, -0.15297622,\n",
       "        -0.03285499,  0.08726624,  0.20738746,  0.32750869,  0.44762992,\n",
       "         0.56775115]),\n",
       " <a list of 10 Patch objects>)"
      ]
     },
     "execution_count": 7,
     "metadata": {},
     "output_type": "execute_result"
    },
    {
     "data": {
      "image/png": "[encoded data removed]",
      "text/plain": [
       "<matplotlib.figure.Figure at 0x7fc2df87cdd8>"
      ]
     },
     "metadata": {},
     "output_type": "display_data"
    }
   ],
   "source": [
    "plt.hist(DF['y-yhat'].drop('total'))"
   ]
  },
  {
   "cell_type": "code",
   "execution_count": 8,
   "metadata": {
    "collapsed": false,
    "scrolled": true
   },
   "outputs": [
    {
     "data": {
      "text/html": [
       "<div>\n",
       "<table border=\"1\" class=\"dataframe\">\n",
       "  <thead>\n",
       "    <tr style=\"text-align: right;\">\n",
       "      <th></th>\n",
       "      <th>Ord_Res</th>\n",
       "      <th>y-yhat</th>\n",
       "      <th>res_sq</th>\n",
       "      <th>i</th>\n",
       "      <th>prob</th>\n",
       "      <th>Z</th>\n",
       "      <th>std_res</th>\n",
       "    </tr>\n",
       "  </thead>\n",
       "  <tbody>\n",
       "    <tr>\n",
       "      <th>3</th>\n",
       "      <td>-1.0</td>\n",
       "      <td>-0.633461</td>\n",
       "      <td>0.401273</td>\n",
       "      <td>1</td>\n",
       "      <td>0.090909</td>\n",
       "      <td>-1.335178</td>\n",
       "      <td>-1.375026</td>\n",
       "    </tr>\n",
       "    <tr>\n",
       "      <th>2</th>\n",
       "      <td>-0.0</td>\n",
       "      <td>-0.361996</td>\n",
       "      <td>0.131041</td>\n",
       "      <td>2</td>\n",
       "      <td>0.227273</td>\n",
       "      <td>-0.747859</td>\n",
       "      <td>-0.785768</td>\n",
       "    </tr>\n",
       "    <tr>\n",
       "      <th>4</th>\n",
       "      <td>-0.0</td>\n",
       "      <td>-0.195488</td>\n",
       "      <td>0.038215</td>\n",
       "      <td>3</td>\n",
       "      <td>0.363636</td>\n",
       "      <td>-0.348756</td>\n",
       "      <td>-0.424337</td>\n",
       "    </tr>\n",
       "    <tr>\n",
       "      <th>1</th>\n",
       "      <td>0.0</td>\n",
       "      <td>0.102088</td>\n",
       "      <td>0.010422</td>\n",
       "      <td>4</td>\n",
       "      <td>0.500000</td>\n",
       "      <td>0.000000</td>\n",
       "      <td>0.221597</td>\n",
       "    </tr>\n",
       "    <tr>\n",
       "      <th>5</th>\n",
       "      <td>0.0</td>\n",
       "      <td>0.155411</td>\n",
       "      <td>0.024153</td>\n",
       "      <td>5</td>\n",
       "      <td>0.636364</td>\n",
       "      <td>0.348756</td>\n",
       "      <td>0.337344</td>\n",
       "    </tr>\n",
       "    <tr>\n",
       "      <th>0</th>\n",
       "      <td>0.0</td>\n",
       "      <td>0.365694</td>\n",
       "      <td>0.133732</td>\n",
       "      <td>6</td>\n",
       "      <td>0.772727</td>\n",
       "      <td>0.747859</td>\n",
       "      <td>0.793797</td>\n",
       "    </tr>\n",
       "    <tr>\n",
       "      <th>6</th>\n",
       "      <td>1.0</td>\n",
       "      <td>0.567751</td>\n",
       "      <td>0.322341</td>\n",
       "      <td>7</td>\n",
       "      <td>0.909091</td>\n",
       "      <td>1.335178</td>\n",
       "      <td>1.232392</td>\n",
       "    </tr>\n",
       "  </tbody>\n",
       "</table>\n",
       "</div>"
      ],
      "text/plain": [
       "   Ord_Res    y-yhat    res_sq  i      prob         Z   std_res\n",
       "3     -1.0 -0.633461  0.401273  1  0.090909 -1.335178 -1.375026\n",
       "2     -0.0 -0.361996  0.131041  2  0.227273 -0.747859 -0.785768\n",
       "4     -0.0 -0.195488  0.038215  3  0.363636 -0.348756 -0.424337\n",
       "1      0.0  0.102088  0.010422  4  0.500000  0.000000  0.221597\n",
       "5      0.0  0.155411  0.024153  5  0.636364  0.348756  0.337344\n",
       "0      0.0  0.365694  0.133732  6  0.772727  0.747859  0.793797\n",
       "6      1.0  0.567751  0.322341  7  0.909091  1.335178  1.232392"
      ]
     },
     "execution_count": 8,
     "metadata": {},
     "output_type": "execute_result"
    }
   ],
   "source": [
    "# Normal Residual Plot\n",
    "\n",
    "resDF = pd.DataFrame({'y-yhat':DF['y-yhat'].drop('total').copy(),'Ord_Res':round(DF['y-yhat'].drop('total'))})\n",
    "n=resDF.shape[0]\n",
    "\n",
    "\n",
    "# Signs for analysis\n",
    "# Need to do on an unordered copy\n",
    "resDFsigns=pd.DataFrame({'y-yhat':resDF['y-yhat'].copy()})\n",
    "def PorN(series):\n",
    "    if series >= 0:\n",
    "        return('+')\n",
    "    else:\n",
    "        return('-')\n",
    "        \n",
    "resDFsigns['sign']=resDFsigns['y-yhat'].apply(lambda x: PorN(x))\n",
    "\n",
    "# Sort original resDF to compute z values for plot\n",
    "resDF.sort_values(by='y-yhat',axis=0,ascending=True,inplace=True)\n",
    "resDF['res_sq']=resDF['y-yhat']**2\n",
    "resDF['i']=np.array(range(1,resDF.shape[0]+1))\n",
    "resDF['prob']=(3*resDF.i-1)/(3*n+1)\n",
    "resDF['Z']=stats.norm.ppf(resDF.prob)\n",
    "\n",
    "# To check for outliers standardize the residuals\n",
    "# e/s\n",
    "# If the abs value is larger than 3 or 4 it is likely an outlier\n",
    "s=ssqands(x,y)[1]\n",
    "resDF['std_res']=resDF['y-yhat']/s\n",
    "\n",
    "\n",
    "resDF"
   ]
  },
  {
   "cell_type": "code",
   "execution_count": 9,
   "metadata": {
    "collapsed": false
   },
   "outputs": [
    {
     "data": {
      "text/html": [
       "<div>\n",
       "<table border=\"1\" class=\"dataframe\">\n",
       "  <thead>\n",
       "    <tr style=\"text-align: right;\">\n",
       "      <th></th>\n",
       "      <th>y-yhat</th>\n",
       "      <th>sign</th>\n",
       "    </tr>\n",
       "  </thead>\n",
       "  <tbody>\n",
       "    <tr>\n",
       "      <th>0</th>\n",
       "      <td>0.365694</td>\n",
       "      <td>+</td>\n",
       "    </tr>\n",
       "    <tr>\n",
       "      <th>1</th>\n",
       "      <td>0.102088</td>\n",
       "      <td>+</td>\n",
       "    </tr>\n",
       "    <tr>\n",
       "      <th>2</th>\n",
       "      <td>-0.361996</td>\n",
       "      <td>-</td>\n",
       "    </tr>\n",
       "    <tr>\n",
       "      <th>3</th>\n",
       "      <td>-0.633461</td>\n",
       "      <td>-</td>\n",
       "    </tr>\n",
       "    <tr>\n",
       "      <th>4</th>\n",
       "      <td>-0.195488</td>\n",
       "      <td>-</td>\n",
       "    </tr>\n",
       "    <tr>\n",
       "      <th>5</th>\n",
       "      <td>0.155411</td>\n",
       "      <td>+</td>\n",
       "    </tr>\n",
       "    <tr>\n",
       "      <th>6</th>\n",
       "      <td>0.567751</td>\n",
       "      <td>+</td>\n",
       "    </tr>\n",
       "  </tbody>\n",
       "</table>\n",
       "</div>"
      ],
      "text/plain": [
       "     y-yhat sign\n",
       "0  0.365694    +\n",
       "1  0.102088    +\n",
       "2 -0.361996    -\n",
       "3 -0.633461    -\n",
       "4 -0.195488    -\n",
       "5  0.155411    +\n",
       "6  0.567751    +"
      ]
     },
     "execution_count": 9,
     "metadata": {},
     "output_type": "execute_result"
    }
   ],
   "source": [
    "resDFsigns"
   ]
  },
  {
   "cell_type": "code",
   "execution_count": 10,
   "metadata": {
    "collapsed": false
   },
   "outputs": [
    {
     "data": {
      "image/png": "[encoded data removed]",
      "text/plain": [
       "<matplotlib.figure.Figure at 0x7fc2df881b70>"
      ]
     },
     "metadata": {},
     "output_type": "display_data"
    }
   ],
   "source": [
    "# Plot dots then line\n",
    "# Should be straight if normal\n",
    "plt.plot(resDF['Z'],resDF['Ord_Res'],'bo')\n",
    "plt.plot(resDF['Z'],resDF['Ord_Res'])\n",
    "plt.show()"
   ]
  },
  {
   "cell_type": "code",
   "execution_count": 11,
   "metadata": {
    "collapsed": false
   },
   "outputs": [
    {
     "name": "stdout",
     "output_type": "stream",
     "text": [
      "0.261840237269\n"
     ]
    }
   ],
   "source": [
    "# Durbin Watson\n",
    "n=resDF.shape[0]\n",
    "num = 0\n",
    "dem = resDF['res_sq'].sum()\n",
    "for i in range(1,n):\n",
    "    num = num + (resDF['y-yhat'].iloc[i]- resDF['y-yhat'].iloc[i-1])**2\n",
    "d= num/dem\n",
    "print(d)"
   ]
  },
  {
   "cell_type": "code",
   "execution_count": 12,
   "metadata": {
    "collapsed": false
   },
   "outputs": [
    {
     "data": {
      "text/plain": [
       "0.26184023726854844"
      ]
     },
     "execution_count": 12,
     "metadata": {},
     "output_type": "execute_result"
    }
   ],
   "source": [
    "# Found Durbin Watson test in statsmodels.stats.stattools\n",
    "import statsmodels.stats.stattools\n",
    "statsmodels.stats.stattools.durbin_watson(resDF['y-yhat'],axis=0)"
   ]
  },
  {
   "cell_type": "code",
   "execution_count": 13,
   "metadata": {
    "collapsed": false
   },
   "outputs": [
    {
     "data": {
      "text/plain": [
       "LinregressResult(slope=4.7521110145287464, intercept=12.342423630944996, rvalue=0.98747477216832469, pvalue=3.3496357994425024e-05, stderr=0.33956208834377022)"
      ]
     },
     "execution_count": 13,
     "metadata": {},
     "output_type": "execute_result"
    }
   ],
   "source": [
    "stats.linregress(x,y)"
   ]
  },
  {
   "cell_type": "code",
   "execution_count": 14,
   "metadata": {
    "collapsed": false
   },
   "outputs": [
    {
     "name": "stdout",
     "output_type": "stream",
     "text": [
      "2.57058183661\n"
     ]
    }
   ],
   "source": [
    "print(stats.t.ppf(0.975,5))"
   ]
  },
  {
   "cell_type": "code",
   "execution_count": 15,
   "metadata": {
    "collapsed": false
   },
   "outputs": [
    {
     "data": {
      "text/plain": [
       "<matplotlib.axes._subplots.AxesSubplot at 0x7fc2e14f8a58>"
      ]
     },
     "execution_count": 15,
     "metadata": {},
     "output_type": "execute_result"
    },
    {
     "data": {
      "image/png": "[encoded data removed]",
      "text/plain": [
       "<matplotlib.figure.Figure at 0x7fc2e19c3dd8>"
      ]
     },
     "metadata": {},
     "output_type": "display_data"
    }
   ],
   "source": [
    "# Make a residual plot\n",
    "import seaborn as sns\n",
    "sns.residplot(x='x',y='y',data=DF.drop('total'))"
   ]
  },
  {
   "cell_type": "code",
   "execution_count": 16,
   "metadata": {
    "collapsed": false
   },
   "outputs": [
    {
     "name": "stdout",
     "output_type": "stream",
     "text": [
      "           x         xx        xy      y      y_sq      yhat        y-yhat  \\\n",
      "0       19.1     364.81    1.8145  0.095  0.009025  0.091303  3.696912e-03   \n",
      "1       38.2    1459.24    6.6468  0.174  0.030276  0.175234 -1.233710e-03   \n",
      "2       57.3    3283.29   14.6688  0.256  0.065536  0.259164 -3.164332e-03   \n",
      "3       76.2    5806.44   26.5176  0.348  0.121104  0.342216  5.783901e-03   \n",
      "4       95.0    9025.00   40.7550  0.429  0.184041  0.424828  4.171561e-03   \n",
      "5      114.0   12996.00   57.0000  0.500  0.250000  0.508320 -8.319633e-03   \n",
      "6      131.0   17161.00   75.9800  0.580  0.336400  0.583022 -3.022281e-03   \n",
      "7      150.0   22500.00   97.6500  0.651  0.423801  0.666513 -1.551348e-02   \n",
      "8      170.0   28900.00  131.2400  0.772  0.595984  0.754399  1.760106e-02   \n",
      "total  850.8  101495.78  452.2727  3.805  2.016167  3.805000 -8.187895e-16   \n",
      "\n",
      "       y-yhat_squared  \n",
      "0            0.000014  \n",
      "1            0.000002  \n",
      "2            0.000010  \n",
      "3            0.000033  \n",
      "4            0.000017  \n",
      "5            0.000069  \n",
      "6            0.000009  \n",
      "7            0.000241  \n",
      "8            0.000310  \n",
      "total        0.000705  \n",
      "\n",
      "Slope: 0.00439427339611\n",
      "Intercept: 0.00737246606538\n",
      "Xbar: 94.5333333333\n",
      "Ybar: 0.422777777778\n",
      "r^2: 0.998270239381\n",
      "SSR: 0.406792682332\n",
      "SSE: 0.00070487322376\n",
      "SST: 0.407497555556\n",
      "s^2: 0.000100696174823\n",
      "s: 0.0100347483686886\n",
      "c00: 0.535311399105\n",
      "c11: 4.74680089354e-05\n"
     ]
    },
    {
     "data": {
      "image/png": "[encoded data removed]",
      "text/plain": [
       "<matplotlib.figure.Figure at 0x7fc2e14e17f0>"
      ]
     },
     "metadata": {},
     "output_type": "display_data"
    }
   ],
   "source": [
    "#Assign 1 2\n",
    "x=np.array([19.1,38.2,57.3,76.2,95,114,131,150,170])\n",
    "y=np.array([0.095,0.174,0.256,0.348,0.429,0.5,0.58,0.651,0.772])\n",
    "DF=linregDF(x,y)\n",
    "printall(x,y)\n",
    "plotit(DF)"
   ]
  },
  {
   "cell_type": "code",
   "execution_count": 17,
   "metadata": {
    "collapsed": false
   },
   "outputs": [
    {
     "data": {
      "text/plain": [
       "1.6448536269514722"
      ]
     },
     "execution_count": 17,
     "metadata": {},
     "output_type": "execute_result"
    }
   ],
   "source": [
    "#ppf gives z score\n",
    "#cdf gives prob\n",
    "stats.norm.ppf(0.95)"
   ]
  },
  {
   "cell_type": "code",
   "execution_count": 18,
   "metadata": {
    "collapsed": false
   },
   "outputs": [
    {
     "data": {
      "text/plain": [
       "0.020675162866070074"
      ]
     },
     "execution_count": 18,
     "metadata": {},
     "output_type": "execute_result"
    }
   ],
   "source": [
    "1-stats.norm.cdf(2.04)"
   ]
  },
  {
   "cell_type": "code",
   "execution_count": 19,
   "metadata": {
    "collapsed": false
   },
   "outputs": [
    {
     "name": "stdout",
     "output_type": "stream",
     "text": [
      "              x            xx            xy         y          y_sq  \\\n",
      "0        472.92  2.236533e+05  2.679186e+05    566.52  3.209449e+05   \n",
      "1       1339.75  1.794930e+06  9.335646e+05    696.82  4.855581e+05   \n",
      "2        620.25  3.847101e+05  6.408113e+05   1033.15  1.067399e+06   \n",
      "3        568.33  3.229990e+05  9.113854e+05   1603.62  2.571597e+06   \n",
      "4       1497.60  2.242806e+06  2.413188e+06   1611.37  2.596513e+06   \n",
      "5       1365.83  1.865492e+06  2.203453e+06   1613.27  2.602640e+06   \n",
      "6       1687.00  2.845969e+06  3.127985e+06   1854.17  3.437946e+06   \n",
      "7       1639.92  2.689338e+06  3.543129e+06   2160.55  4.667976e+06   \n",
      "8       2872.33  8.250280e+06  6.622387e+06   2305.58  5.315699e+06   \n",
      "9       3655.08  1.335961e+07  1.280714e+07   3503.93  1.227753e+07   \n",
      "10      2912.00  8.479744e+06  1.040134e+07   3571.89  1.275840e+07   \n",
      "11      3921.00  1.537424e+07  1.467003e+07   3741.40  1.399807e+07   \n",
      "12      3865.67  1.494340e+07  1.556520e+07   4026.52  1.621286e+07   \n",
      "total  26417.68  7.277718e+07  7.410754e+07  28288.79  7.831314e+07   \n",
      "\n",
      "               yhat        y-yhat  y-yhat_squared  \n",
      "0        818.722486 -2.522025e+02    6.360609e+04  \n",
      "1       1573.323934 -8.765039e+02    7.682591e+05  \n",
      "2        946.977658  8.617234e+01    7.425672e+03  \n",
      "3        901.779745  7.018403e+02    4.925797e+05  \n",
      "4       1710.737082 -9.936708e+01    9.873817e+03  \n",
      "5       1596.027355  1.724265e+01    2.973088e+02  \n",
      "6       1875.615448 -2.144545e+01    4.599073e+02  \n",
      "7       1834.630900  3.259191e+02    1.062233e+05  \n",
      "8       2907.480676 -6.019007e+02    3.622844e+05  \n",
      "9       3588.887969 -8.495797e+01    7.217857e+03  \n",
      "10      2942.014598  6.298754e+02    3.967430e+05  \n",
      "11      3820.379285 -7.897928e+01    6.237727e+03  \n",
      "12      3772.212864  2.543071e+02    6.467212e+04  \n",
      "total  28288.790000 -1.591616e-12    2.285880e+06  \n",
      "\n",
      "Slope: 0.870529917859\n",
      "Intercept: 407.031476891\n",
      "Xbar: 2032.12923077\n",
      "Ybar: 2176.06076923\n",
      "r^2: 0.863570344983\n",
      "SSR: 14469128.9081\n",
      "SSE: 2285880.09858\n",
      "SST: 16755009.0067\n",
      "s^2: 207807.281689\n",
      "s: 455.85883965257506\n",
      "c00: 0.293208705245\n",
      "c11: 5.23751182742e-08\n"
     ]
    },
    {
     "data": {
      "image/png": "[encoded data removed]",
      "text/plain": [
       "<matplotlib.figure.Figure at 0x7fc2df7c8f28>"
      ]
     },
     "metadata": {},
     "output_type": "display_data"
    }
   ],
   "source": [
    "# Chapter 5, Q 5.4\n",
    "x=np.array([472.92,1339.75,620.25,568.33,1497.60,1365.83,1687,1639.92,2872.33,3655.08,2912,3921,3865.67])\n",
    "y=np.array([566.52,696.82,1033.15,1603.62,1611.37,1613.27,1854.17,2160.55,2305.58,3503.93,3571.89,3741.40,4026.52])\n",
    "DF=linregDF(x,y)\n",
    "printall(x,y)\n",
    "plotit(DF)\n"
   ]
  },
  {
   "cell_type": "code",
   "execution_count": null,
   "metadata": {
    "collapsed": true
   },
   "outputs": [],
   "source": []
  }
 ],
 "metadata": {
  "kernelspec": {
   "display_name": "Python 3",
   "language": "python",
   "name": "python3"
  },
  "language_info": {
   "codemirror_mode": {
    "name": "ipython",
    "version": 3
   },
   "file_extension": ".py",
   "mimetype": "text/x-python",
   "name": "python",
   "nbconvert_exporter": "python",
   "pygments_lexer": "ipython3",
   "version": "3.5.2"
  }
 },
 "nbformat": 4,
 "nbformat_minor": 0
}
