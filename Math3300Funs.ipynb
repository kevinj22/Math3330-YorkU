{
 "cells": [
  {
   "cell_type": "code",
   "execution_count": 15,
   "metadata": {
    "collapsed": false
   },
   "outputs": [],
   "source": [
    "# -*- coding: utf-8 -*-\n",
    "\"\"\"\n",
    "Created on Thu Jun 30 23:51:04 2016\n",
    "\n",
    "@author: Kevin Joseph\n",
    "\"\"\"\n",
    "\n",
    "import numpy as np\n",
    "import pandas as pd\n",
    "from scipy import stats\n",
    "\n",
    "def linregDF(x,y):\n",
    "    \n",
    "    import numpy as np\n",
    "    import pandas as pd\n",
    "    from scipy import stats\n",
    "\n",
    "    df = pd.DataFrame({'x':x,'y':y,'xy':x*y,'xx':x**2})\n",
    "    \n",
    "    bOne=stats.linregress(x,y)[0]\n",
    "    bnot=stats.linregress(x,y)[1]\n",
    "    yhat = bnot + bOne*x\n",
    "    \n",
    "    df['yhat']=yhat\n",
    "    df['y-yhat']=df['y']-df['yhat']\n",
    "    df['y-yhat_squared']=df['y-yhat']**2\n",
    "    df=df.append(df.sum(),ignore_index=True)\n",
    "    df = df.rename(index={df.shape[0]-1:'total'}) \n",
    "    return df\n",
    "\n",
    "def SSE(x,y):\n",
    "    df=linregDF(x,y)\n",
    "    dex = df.shape[0]-1 # Don't want total row\n",
    "    return(sum((df.y.iloc[:dex]-df.yhat.iloc[:dex])**2))\n",
    "\n",
    "def SSR(x,y):\n",
    "    df=linregDF(x,y)\n",
    "    dex=df.shape[0]-1\n",
    "    ybar = df.y[:dex].mean()\n",
    "    return sum((df.yhat[:dex]-ybar)**2)\n",
    "\n",
    "def SST(x,y):\n",
    "    df=linregDF(x,y)\n",
    "    dex=df.shape[0]-1\n",
    "    ybar = df.y[:dex].mean()\n",
    "    return sum((df.y[:dex]-ybar)**2)\n",
    "\n",
    "def ssqands(x,y):\n",
    "    import math\n",
    "    n=len(x)\n",
    "    ssqands=[SSE(x,y)/(n-2)]\n",
    "    ssqands.append(math.sqrt(ssqands[0]))\n",
    "    return ssqands\n",
    "\n",
    "def printall(x,y):\n",
    "    DF=linregDF(x,y)\n",
    "    print(DF)\n",
    "    print()\n",
    "    print(\"Slope:\", stats.linregress(x,y)[0])\n",
    "    print(\"Intercept:\", stats.linregress(x,y)[1])\n",
    "    print(\"Xbar:\", DF.x.loc['total']/len(x))\n",
    "    print(\"Ybar:\", DF.y.loc['total']/len(y))\n",
    "    print(\"r^2:\", stats.linregress(x,y)[2]**2)\n",
    "    print(\"SSR:\", SSR(x,y))\n",
    "    print(\"SSE:\", SSE(x,y))\n",
    "    print(\"SST:\", SST(x,y))\n",
    "    print(\"s^2:\", ssqands(x,y)[0])\n",
    "    print(\"s:\", ssqands(x,y)[1])\n",
    "    \n",
    "def plotit(DF):\n",
    "    plt.plot(x,y,'o',label='Original Data',markersize=5)\n",
    "    plt.plot(DF.drop('total')['x'],DF.drop('total')['yhat'],'-',label='Fitted')\n",
    "    plt.title('SLR')\n",
    "    plt.xlabel('X')\n",
    "    plt.ylabel('Y')\n",
    "    plt.legend()\n",
    "    \n"
   ]
  },
  {
   "cell_type": "code",
   "execution_count": 16,
   "metadata": {
    "collapsed": false
   },
   "outputs": [
    {
     "name": "stdout",
     "output_type": "stream",
     "text": [
      "          x     xx      xy       y         yhat        y-yhat  y-yhat_squared\n",
      "0       2.0   4.00   504.0   252.0   251.190476  8.095238e-01        0.655329\n",
      "1       2.2   4.84   536.8   244.0   245.647619 -1.647619e+00        2.714649\n",
      "2       2.4   5.76   578.4   241.0   240.104762  8.952381e-01        0.801451\n",
      "3       2.6   6.76   608.4   234.0   234.561905 -5.619048e-01        0.315737\n",
      "4       2.8   7.84   644.0   230.0   229.019048  9.809524e-01        0.962268\n",
      "5       3.0   9.00   669.0   223.0   223.476190 -4.761905e-01        0.226757\n",
      "total  15.0  38.20  3540.6  1424.0  1424.000000 -5.684342e-14        5.676190\n",
      "\n",
      "Slope: -27.7142857143\n",
      "Intercept: 306.619047619\n",
      "Xbar: 2.5\n",
      "Ybar: 237.333333333\n",
      "r^2: 0.989553023663\n",
      "SSR: 537.657142857\n",
      "SSE: 5.67619047619\n",
      "SST: 543.333333333\n",
      "s^2: 1.41904761905\n",
      "s: 1.1912378515844848\n"
     ]
    },
    {
     "data": {
      "image/png": "[encoded data removed]",
      "text/plain": [
       "<matplotlib.figure.Figure at 0x7fc7a8fef240>"
      ]
     },
     "metadata": {},
     "output_type": "display_data"
    }
   ],
   "source": [
    "%matplotlib inline\n",
    "import numpy as np\n",
    "import matplotlib.pyplot as plt\n",
    "\n",
    "# Question 4.5 Chaot 4 pg 130\n",
    "\n",
    "x=np.array([2,2.2,2.4,2.6,2.8,3])\n",
    "y=np.array([252,244,241,234,230,223])\n",
    "DF = linregDF(x,y)\n",
    "printall(x,y)\n",
    "plotit(DF)\n",
    "\n",
    "\n"
   ]
  },
  {
   "cell_type": "code",
   "execution_count": 17,
   "metadata": {
    "collapsed": false
   },
   "outputs": [
    {
     "name": "stdout",
     "output_type": "stream",
     "text": [
      "           x        xx       xy     y       yhat        y-yhat  y-yhat_squared\n",
      "0       28.0    784.00   347.20  12.4  12.256049  1.439506e-01        0.020722\n",
      "1       28.0    784.00   327.60  11.7  12.256049 -5.560494e-01        0.309191\n",
      "2       32.5   1056.25   403.00  12.4  11.680402  7.195983e-01        0.517822\n",
      "3       39.0   1521.00   421.20  10.8  10.848911 -4.891053e-02        0.002392\n",
      "4       45.9   2106.81   431.46   9.4   9.966251 -5.662507e-01        0.320640\n",
      "5       57.8   3340.84   549.10   9.5   8.443982  1.056018e+00        1.115173\n",
      "6       58.1   3375.61   464.80   8.0   8.405606 -4.056058e-01        0.164516\n",
      "7       62.5   3906.25   468.75   7.5   7.842750 -3.427502e-01        0.117478\n",
      "total  351.8  16874.76  3413.11  81.7  81.700000  2.664535e-15        2.567934\n",
      "\n",
      "Slope: -0.127921714951\n",
      "Intercept: 15.837857415\n",
      "Xbar: 43.975\n",
      "Ybar: 10.2125\n",
      "r^2: 0.899488870753\n",
      "SSR: 22.9808162867\n",
      "SSE: 2.56793371334\n",
      "SST: 25.54875\n",
      "s^2: 0.427988952224\n",
      "s: 0.6542086457878852\n"
     ]
    },
    {
     "data": {
      "image/png": "[encoded data removed]",
      "text/plain": [
       "<matplotlib.figure.Figure at 0x7fc7a95273c8>"
      ]
     },
     "metadata": {},
     "output_type": "display_data"
    }
   ],
   "source": [
    "# Table 4.4 chap 4 and example 5.11 pg 177\n",
    "x = np.array([28,28,32.5,39,45.9,57.8,58.1,62.5])\n",
    "y = np.array([12.4,11.7,12.4,10.8,9.4,9.5,8.0,7.5])\n",
    "\n",
    "DF = linregDF(x,y)\n",
    "printall(x,y)\n",
    "plotit(DF)"
   ]
  },
  {
   "cell_type": "code",
   "execution_count": 18,
   "metadata": {
    "collapsed": false
   },
   "outputs": [
    {
     "name": "stdout",
     "output_type": "stream",
     "text": [
      "           x       xx       xy      y        yhat        y-yhat  \\\n",
      "0       3.26  10.6276   91.932   28.2   27.834306  3.656945e-01   \n",
      "1       2.60   6.7600   64.480   24.8   24.697912  1.020877e-01   \n",
      "2       3.35  11.2225   93.465   27.9   28.261996 -3.619955e-01   \n",
      "3       2.86   8.1796   72.358   25.3   25.933461 -6.334611e-01   \n",
      "4       3.82  14.5924  115.746   30.3   30.495488 -1.954877e-01   \n",
      "5       2.21   4.8841   50.830   23.0   22.844589  1.554110e-01   \n",
      "6       3.47  12.0409  102.018   29.4   28.832249  5.677511e-01   \n",
      "total  21.57  68.3071  590.829  188.9  188.900000 -3.197442e-14   \n",
      "\n",
      "       y-yhat_squared  \n",
      "0            0.133732  \n",
      "1            0.010422  \n",
      "2            0.131041  \n",
      "3            0.401273  \n",
      "4            0.038215  \n",
      "5            0.024153  \n",
      "6            0.322341  \n",
      "total        1.061178  \n",
      "\n",
      "Slope: 4.75211101453\n",
      "Intercept: 12.3424236309\n",
      "Xbar: 3.08142857143\n",
      "Ybar: 26.9857142857\n",
      "r^2: 0.975106425669\n",
      "SSR: 41.5673939171\n",
      "SSE: 1.06117751149\n",
      "SST: 42.6285714286\n",
      "s^2: 0.212235502297\n",
      "s: 0.46069024549829557\n"
     ]
    },
    {
     "data": {
      "image/png": "[encoded data removed]",
      "text/plain": [
       "<matplotlib.figure.Figure at 0x7fc7a8f3c828>"
      ]
     },
     "metadata": {},
     "output_type": "display_data"
    }
   ],
   "source": [
    "# Chap 5 Q 5.1\n",
    "x=np.array([3.26,2.60,3.35,2.86,3.82,2.21,3.47])\n",
    "y=np.array([28.2,24.8,27.9,25.3,30.3,23.0,29.4])\n",
    "DF = linregDF(x,y)\n",
    "printall(x,y)\n",
    "plotit(DF)"
   ]
  },
  {
   "cell_type": "code",
   "execution_count": null,
   "metadata": {
    "collapsed": true
   },
   "outputs": [],
   "source": []
  }
 ],
 "metadata": {
  "kernelspec": {
   "display_name": "Python 3",
   "language": "python",
   "name": "python3"
  },
  "language_info": {
   "codemirror_mode": {
    "name": "ipython",
    "version": 3
   },
   "file_extension": ".py",
   "mimetype": "text/x-python",
   "name": "python",
   "nbconvert_exporter": "python",
   "pygments_lexer": "ipython3",
   "version": "3.5.1"
  }
 },
 "nbformat": 4,
 "nbformat_minor": 0
}
