{
 "cells": [
  {
   "cell_type": "code",
   "execution_count": 1,
   "metadata": {
    "collapsed": true
   },
   "outputs": [],
   "source": [
    "import numpy as np\n",
    "import statsmodels.api as sm\n",
    "import pandas as pd\n",
    "import matplotlib.pyplot as plt\n",
    "from statsmodels.formula.api import ols"
   ]
  },
  {
   "cell_type": "code",
   "execution_count": 47,
   "metadata": {
    "collapsed": true
   },
   "outputs": [],
   "source": [
    "df = pd.read_excel('hostipal.xlsx',header=None)\n",
    "df.columns=['X1','X2','X3','X4','X5','Y']"
   ]
  },
  {
   "cell_type": "code",
   "execution_count": 48,
   "metadata": {
    "collapsed": false
   },
   "outputs": [
    {
     "data": {
      "text/html": [
       "<div>\n",
       "<table border=\"1\" class=\"dataframe\">\n",
       "  <thead>\n",
       "    <tr style=\"text-align: right;\">\n",
       "      <th></th>\n",
       "      <th>X1</th>\n",
       "      <th>X2</th>\n",
       "      <th>X3</th>\n",
       "      <th>X4</th>\n",
       "      <th>X5</th>\n",
       "      <th>Y</th>\n",
       "    </tr>\n",
       "  </thead>\n",
       "  <tbody>\n",
       "    <tr>\n",
       "      <th>0</th>\n",
       "      <td>15.57</td>\n",
       "      <td>2463</td>\n",
       "      <td>472.92</td>\n",
       "      <td>18.0</td>\n",
       "      <td>4.45</td>\n",
       "      <td>566.52</td>\n",
       "    </tr>\n",
       "    <tr>\n",
       "      <th>1</th>\n",
       "      <td>44.02</td>\n",
       "      <td>2048</td>\n",
       "      <td>1339.75</td>\n",
       "      <td>9.5</td>\n",
       "      <td>6.92</td>\n",
       "      <td>696.82</td>\n",
       "    </tr>\n",
       "    <tr>\n",
       "      <th>2</th>\n",
       "      <td>20.42</td>\n",
       "      <td>3940</td>\n",
       "      <td>620.25</td>\n",
       "      <td>12.8</td>\n",
       "      <td>4.28</td>\n",
       "      <td>1033.15</td>\n",
       "    </tr>\n",
       "    <tr>\n",
       "      <th>3</th>\n",
       "      <td>18.74</td>\n",
       "      <td>6505</td>\n",
       "      <td>568.33</td>\n",
       "      <td>36.7</td>\n",
       "      <td>3.90</td>\n",
       "      <td>1603.62</td>\n",
       "    </tr>\n",
       "    <tr>\n",
       "      <th>4</th>\n",
       "      <td>49.20</td>\n",
       "      <td>5723</td>\n",
       "      <td>1497.60</td>\n",
       "      <td>35.7</td>\n",
       "      <td>5.50</td>\n",
       "      <td>1611.37</td>\n",
       "    </tr>\n",
       "    <tr>\n",
       "      <th>5</th>\n",
       "      <td>44.92</td>\n",
       "      <td>11520</td>\n",
       "      <td>1365.83</td>\n",
       "      <td>24.0</td>\n",
       "      <td>4.60</td>\n",
       "      <td>1613.27</td>\n",
       "    </tr>\n",
       "    <tr>\n",
       "      <th>6</th>\n",
       "      <td>55.48</td>\n",
       "      <td>5779</td>\n",
       "      <td>1687.00</td>\n",
       "      <td>43.3</td>\n",
       "      <td>5.62</td>\n",
       "      <td>1854.17</td>\n",
       "    </tr>\n",
       "    <tr>\n",
       "      <th>7</th>\n",
       "      <td>59.28</td>\n",
       "      <td>5969</td>\n",
       "      <td>1639.92</td>\n",
       "      <td>46.7</td>\n",
       "      <td>5.15</td>\n",
       "      <td>2160.55</td>\n",
       "    </tr>\n",
       "    <tr>\n",
       "      <th>8</th>\n",
       "      <td>94.39</td>\n",
       "      <td>8461</td>\n",
       "      <td>2872.33</td>\n",
       "      <td>78.7</td>\n",
       "      <td>6.18</td>\n",
       "      <td>2305.58</td>\n",
       "    </tr>\n",
       "    <tr>\n",
       "      <th>9</th>\n",
       "      <td>128.02</td>\n",
       "      <td>20106</td>\n",
       "      <td>3655.08</td>\n",
       "      <td>180.5</td>\n",
       "      <td>6.15</td>\n",
       "      <td>3503.93</td>\n",
       "    </tr>\n",
       "    <tr>\n",
       "      <th>10</th>\n",
       "      <td>96.00</td>\n",
       "      <td>13313</td>\n",
       "      <td>2912.00</td>\n",
       "      <td>60.9</td>\n",
       "      <td>5.88</td>\n",
       "      <td>3571.89</td>\n",
       "    </tr>\n",
       "    <tr>\n",
       "      <th>11</th>\n",
       "      <td>131.42</td>\n",
       "      <td>10771</td>\n",
       "      <td>3921.00</td>\n",
       "      <td>103.7</td>\n",
       "      <td>4.88</td>\n",
       "      <td>3741.40</td>\n",
       "    </tr>\n",
       "    <tr>\n",
       "      <th>12</th>\n",
       "      <td>127.21</td>\n",
       "      <td>15543</td>\n",
       "      <td>3865.67</td>\n",
       "      <td>126.8</td>\n",
       "      <td>5.50</td>\n",
       "      <td>4026.52</td>\n",
       "    </tr>\n",
       "    <tr>\n",
       "      <th>13</th>\n",
       "      <td>252.90</td>\n",
       "      <td>36194</td>\n",
       "      <td>7684.10</td>\n",
       "      <td>157.7</td>\n",
       "      <td>7.00</td>\n",
       "      <td>10343.81</td>\n",
       "    </tr>\n",
       "    <tr>\n",
       "      <th>14</th>\n",
       "      <td>409.20</td>\n",
       "      <td>34703</td>\n",
       "      <td>12446.33</td>\n",
       "      <td>169.4</td>\n",
       "      <td>10.78</td>\n",
       "      <td>11732.17</td>\n",
       "    </tr>\n",
       "    <tr>\n",
       "      <th>15</th>\n",
       "      <td>463.70</td>\n",
       "      <td>39204</td>\n",
       "      <td>14098.40</td>\n",
       "      <td>331.4</td>\n",
       "      <td>7.05</td>\n",
       "      <td>15414.94</td>\n",
       "    </tr>\n",
       "    <tr>\n",
       "      <th>16</th>\n",
       "      <td>510.22</td>\n",
       "      <td>86533</td>\n",
       "      <td>15524.00</td>\n",
       "      <td>371.6</td>\n",
       "      <td>6.35</td>\n",
       "      <td>18854.45</td>\n",
       "    </tr>\n",
       "  </tbody>\n",
       "</table>\n",
       "</div>"
      ],
      "text/plain": [
       "        X1     X2        X3     X4     X5         Y\n",
       "0    15.57   2463    472.92   18.0   4.45    566.52\n",
       "1    44.02   2048   1339.75    9.5   6.92    696.82\n",
       "2    20.42   3940    620.25   12.8   4.28   1033.15\n",
       "3    18.74   6505    568.33   36.7   3.90   1603.62\n",
       "4    49.20   5723   1497.60   35.7   5.50   1611.37\n",
       "5    44.92  11520   1365.83   24.0   4.60   1613.27\n",
       "6    55.48   5779   1687.00   43.3   5.62   1854.17\n",
       "7    59.28   5969   1639.92   46.7   5.15   2160.55\n",
       "8    94.39   8461   2872.33   78.7   6.18   2305.58\n",
       "9   128.02  20106   3655.08  180.5   6.15   3503.93\n",
       "10   96.00  13313   2912.00   60.9   5.88   3571.89\n",
       "11  131.42  10771   3921.00  103.7   4.88   3741.40\n",
       "12  127.21  15543   3865.67  126.8   5.50   4026.52\n",
       "13  252.90  36194   7684.10  157.7   7.00  10343.81\n",
       "14  409.20  34703  12446.33  169.4  10.78  11732.17\n",
       "15  463.70  39204  14098.40  331.4   7.05  15414.94\n",
       "16  510.22  86533  15524.00  371.6   6.35  18854.45"
      ]
     },
     "execution_count": 48,
     "metadata": {},
     "output_type": "execute_result"
    }
   ],
   "source": [
    "df"
   ]
  },
  {
   "cell_type": "code",
   "execution_count": 67,
   "metadata": {
    "collapsed": false
   },
   "outputs": [
    {
     "name": "stderr",
     "output_type": "stream",
     "text": [
      "/home/kevin/anaconda3/lib/python3.5/site-packages/ipykernel/__main__.py:1: FutureWarning: using '-' to provide set differences with Indexes is deprecated, use .difference()\n",
      "  if __name__ == '__main__':\n"
     ]
    }
   ],
   "source": [
    "all_cols = \"+\".join(df.columns - ['Y'])\n",
    "my_formula = \"Y~\" + all_cols\n",
    "lm=ols(my_formula,df).fit()\n",
    "#lm=ols('Y ~ X1 + X2 + X3 + X4 + X5',df).fit()\n"
   ]
  },
  {
   "cell_type": "code",
   "execution_count": 68,
   "metadata": {
    "collapsed": false
   },
   "outputs": [
    {
     "name": "stderr",
     "output_type": "stream",
     "text": [
      "/home/kevin/anaconda3/lib/python3.5/site-packages/ipykernel/__main__.py:1: FutureWarning: using '-' to provide set differences with Indexes is deprecated, use .difference()\n",
      "  if __name__ == '__main__':\n",
      "/home/kevin/anaconda3/lib/python3.5/site-packages/ipykernel/__main__.py:6: FutureWarning: using '-' to provide set differences with Indexes is deprecated, use .difference()\n",
      "/home/kevin/anaconda3/lib/python3.5/site-packages/scipy/stats/stats.py:1535: UserWarning: kurtosistest only valid for n>=20 ... continuing anyway, n=17\n",
      "  \"anyway, n=%i\" % int(n))\n"
     ]
    },
    {
     "data": {
      "text/html": [
       "<table class=\"simpletable\">\n",
       "<caption>OLS Regression Results</caption>\n",
       "<tr>\n",
       "  <th>Dep. Variable:</th>            <td>Y</td>        <th>  R-squared:         </th> <td>   0.990</td>\n",
       "</tr>\n",
       "<tr>\n",
       "  <th>Model:</th>                   <td>OLS</td>       <th>  Adj. R-squared:    </th> <td>   0.988</td>\n",
       "</tr>\n",
       "<tr>\n",
       "  <th>Method:</th>             <td>Least Squares</td>  <th>  F-statistic:       </th> <td>   432.0</td>\n",
       "</tr>\n",
       "<tr>\n",
       "  <th>Date:</th>             <td>Fri, 29 Jul 2016</td> <th>  Prob (F-statistic):</th> <td>2.89e-13</td>\n",
       "</tr>\n",
       "<tr>\n",
       "  <th>Time:</th>                 <td>17:21:09</td>     <th>  Log-Likelihood:    </th> <td> -131.00</td>\n",
       "</tr>\n",
       "<tr>\n",
       "  <th>No. Observations:</th>      <td>    17</td>      <th>  AIC:               </th> <td>   270.0</td>\n",
       "</tr>\n",
       "<tr>\n",
       "  <th>Df Residuals:</th>          <td>    13</td>      <th>  BIC:               </th> <td>   273.3</td>\n",
       "</tr>\n",
       "<tr>\n",
       "  <th>Df Model:</th>              <td>     3</td>      <th>                     </th>     <td> </td>   \n",
       "</tr>\n",
       "<tr>\n",
       "  <th>Covariance Type:</th>      <td>nonrobust</td>    <th>                     </th>     <td> </td>   \n",
       "</tr>\n",
       "</table>\n",
       "<table class=\"simpletable\">\n",
       "<tr>\n",
       "      <td></td>         <th>coef</th>     <th>std err</th>      <th>t</th>      <th>P>|t|</th> <th>[95.0% Conf. Int.]</th> \n",
       "</tr>\n",
       "<tr>\n",
       "  <th>Intercept</th> <td> 1523.3892</td> <td>  786.898</td> <td>    1.936</td> <td> 0.075</td> <td> -176.600  3223.378</td>\n",
       "</tr>\n",
       "<tr>\n",
       "  <th>X2</th>        <td>    0.0530</td> <td>    0.020</td> <td>    2.637</td> <td> 0.021</td> <td>    0.010     0.096</td>\n",
       "</tr>\n",
       "<tr>\n",
       "  <th>X3</th>        <td>    0.9785</td> <td>    0.105</td> <td>    9.305</td> <td> 0.000</td> <td>    0.751     1.206</td>\n",
       "</tr>\n",
       "<tr>\n",
       "  <th>X5</th>        <td> -320.9508</td> <td>  153.192</td> <td>   -2.095</td> <td> 0.056</td> <td> -651.902    10.001</td>\n",
       "</tr>\n",
       "</table>\n",
       "<table class=\"simpletable\">\n",
       "<tr>\n",
       "  <th>Omnibus:</th>       <td>12.322</td> <th>  Durbin-Watson:     </th> <td>   2.546</td>\n",
       "</tr>\n",
       "<tr>\n",
       "  <th>Prob(Omnibus):</th> <td> 0.002</td> <th>  Jarque-Bera (JB):  </th> <td>   9.490</td>\n",
       "</tr>\n",
       "<tr>\n",
       "  <th>Skew:</th>          <td> 1.385</td> <th>  Prob(JB):          </th> <td> 0.00869</td>\n",
       "</tr>\n",
       "<tr>\n",
       "  <th>Kurtosis:</th>      <td> 5.393</td> <th>  Cond. No.          </th> <td>1.51e+05</td>\n",
       "</tr>\n",
       "</table>"
      ],
      "text/plain": [
       "<class 'statsmodels.iolib.summary.Summary'>\n",
       "\"\"\"\n",
       "                            OLS Regression Results                            \n",
       "==============================================================================\n",
       "Dep. Variable:                      Y   R-squared:                       0.990\n",
       "Model:                            OLS   Adj. R-squared:                  0.988\n",
       "Method:                 Least Squares   F-statistic:                     432.0\n",
       "Date:                Fri, 29 Jul 2016   Prob (F-statistic):           2.89e-13\n",
       "Time:                        17:21:09   Log-Likelihood:                -131.00\n",
       "No. Observations:                  17   AIC:                             270.0\n",
       "Df Residuals:                      13   BIC:                             273.3\n",
       "Df Model:                           3                                         \n",
       "Covariance Type:            nonrobust                                         \n",
       "==============================================================================\n",
       "                 coef    std err          t      P>|t|      [95.0% Conf. Int.]\n",
       "------------------------------------------------------------------------------\n",
       "Intercept   1523.3892    786.898      1.936      0.075      -176.600  3223.378\n",
       "X2             0.0530      0.020      2.637      0.021         0.010     0.096\n",
       "X3             0.9785      0.105      9.305      0.000         0.751     1.206\n",
       "X5          -320.9508    153.192     -2.095      0.056      -651.902    10.001\n",
       "==============================================================================\n",
       "Omnibus:                       12.322   Durbin-Watson:                   2.546\n",
       "Prob(Omnibus):                  0.002   Jarque-Bera (JB):                9.490\n",
       "Skew:                           1.385   Prob(JB):                      0.00869\n",
       "Kurtosis:                       5.393   Cond. No.                     1.51e+05\n",
       "==============================================================================\n",
       "\n",
       "Warnings:\n",
       "[1] Standard Errors assume that the covariance matrix of the errors is correctly specified.\n",
       "[2] The condition number is large, 1.51e+05. This might indicate that there are\n",
       "strong multicollinearity or other numerical problems.\n",
       "\"\"\""
      ]
     },
     "execution_count": 68,
     "metadata": {},
     "output_type": "execute_result"
    }
   ],
   "source": [
    "# Backwards Stepwise Function\n",
    "all_cols = \"+\".join(df.columns - ['Y'])\n",
    "my_formula = \"Y~\" + all_cols\n",
    "lm=ols(my_formula,df).fit()\n",
    "while max(lm.pvalues) > 0.15:\n",
    "    df = df.drop(lm.pvalues.index[lm.pvalues==max(lm.pvalues)][0],axis=1)\n",
    "    all_cols = \"+\".join(df.columns - ['Y'])\n",
    "    my_formula = \"Y~\" + all_cols\n",
    "    lm=ols(my_formula,df).fit()\n",
    "    \n",
    "lm.summary()"
   ]
  },
  {
   "cell_type": "code",
   "execution_count": 30,
   "metadata": {
    "collapsed": false
   },
   "outputs": [
    {
     "data": {
      "text/plain": [
       "'X1'"
      ]
     },
     "execution_count": 30,
     "metadata": {},
     "output_type": "execute_result"
    }
   ],
   "source": [
    "lm.pvalues.index[lm.pvalues==max(lm.pvalues)][0]"
   ]
  },
  {
   "cell_type": "code",
   "execution_count": null,
   "metadata": {
    "collapsed": true
   },
   "outputs": [],
   "source": []
  }
 ],
 "metadata": {
  "kernelspec": {
   "display_name": "Python 3",
   "language": "python",
   "name": "python3"
  },
  "language_info": {
   "codemirror_mode": {
    "name": "ipython",
    "version": 3
   },
   "file_extension": ".py",
   "mimetype": "text/x-python",
   "name": "python",
   "nbconvert_exporter": "python",
   "pygments_lexer": "ipython3",
   "version": "3.5.2"
  }
 },
 "nbformat": 4,
 "nbformat_minor": 0
}
